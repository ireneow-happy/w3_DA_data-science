{
 "cells": [
  {
   "cell_type": "code",
   "execution_count": 20,
   "id": "3330ea23-b1ad-4ee9-a49b-1eb0933bb2c7",
   "metadata": {},
   "outputs": [
    {
     "name": "stdout",
     "output_type": "stream",
     "text": [
      "  colx  coly  colz colw\n",
      "0    t     1    54   r3\n",
      "1    e     5    37   p7\n",
      "2    p     7     9   w9\n",
      "3    a     1    13   a4\n",
      "4    b     0    44   z0\n",
      "5    x     4    77   n7\n",
      "(6, 4)\n",
      "\n",
      "Number of Columns:\n",
      "4\n",
      "Number of Rows:\n",
      "6\n"
     ]
    }
   ],
   "source": [
    "import pandas as pd\n",
    "a={'colx': ['t', 'e', 'p', 'a', 'b', 'x'], 'coly': [ 1, 5, 7, 1, 0, 4], 'colz': [ 54, 37, 9, 13, 44, 77], 'colw':['r3', 'p7', 'w9', 'a4', 'z0', 'n7']}\n",
    "df=pd.DataFrame(a)\n",
    "count_col=df.shape[1]\n",
    "count_row=df.shape[0]\n",
    "\n",
    "print(df)\n",
    "print(df.shape)\n",
    "print()\n",
    "print(\"Number of Columns:\")\n",
    "print(count_col)\n",
    "print(\"Number of Rows:\")\n",
    "print(count_row)"
   ]
  },
  {
   "cell_type": "code",
   "execution_count": 3,
   "id": "92b7f1c8-582a-4bcf-a0a9-c7396a5f847b",
   "metadata": {},
   "outputs": [
    {
     "name": "stdout",
     "output_type": "stream",
     "text": [
      "   Col  Row  Card Site  Pad #  PM Area%  PM Size  X Shift  Y Shift  Prox Up  \\\n",
      "0    0   25        NaN      1       0.0        0       -3       -3   30.555   \n",
      "1    0   25        NaN      2       6.2       20       14       -7   30.555   \n",
      "2    0   25        NaN      3       5.9       19       14       -3   27.160   \n",
      "3    0   25        NaN      4       3.3       10       14        0   27.160   \n",
      "4    0   25        NaN      5       6.5       21       10       -3   27.160   \n",
      "\n",
      "   Prox Down  Prox Left  Prox Right  Edge Touching         Angle   Pass/Fail  \\\n",
      "0     30.555     30.555      30.555            0.0 -9.255960e+61  Judge=Pass   \n",
      "1     13.580     13.580      33.950            0.0 -9.255960e+61  Judge=Pass   \n",
      "2     16.975     13.580      33.950            0.0 -9.255960e+61  Judge=Pass   \n",
      "3     20.370     16.975      30.555            0.0 -9.255960e+61  Judge=Pass   \n",
      "4     13.580     16.975      30.555            0.0 -9.255960e+61  Judge=Pass   \n",
      "\n",
      "   TD Order  DUT#  \n",
      "0      37.0   8.0  \n",
      "1      37.0   8.0  \n",
      "2      37.0   8.0  \n",
      "3      37.0   8.0  \n",
      "4      37.0   8.0  \n"
     ]
    }
   ],
   "source": [
    "import pandas as pd\n",
    "pmi=pd.read_csv(\"C:/Users/irene/OneDrive/桌面/Practice area/C39620_02_PMI_with_TD_and_DUT.csv\", header=0, sep=\",\")\n",
    "print(pmi.head())"
   ]
  },
  {
   "cell_type": "code",
   "execution_count": 21,
   "id": "7beb6c8f-7aef-4053-ae39-8bd31cc70233",
   "metadata": {},
   "outputs": [
    {
     "name": "stdout",
     "output_type": "stream",
     "text": [
      "    Duration Average_Pulse Max_Pulse  Calorie_Burnage  Hours_Work  Hours_Sleep\n",
      "0       30.0            80       120            240.0        10.0          7.0\n",
      "1       45.0            85       120            250.0        10.0          7.0\n",
      "2       45.0            90       130            260.0         8.0          7.0\n",
      "3       60.0            95       130            270.0         8.0          7.0\n",
      "4       60.0           100       140            280.0         8.0          7.0\n",
      "5        NaN           NaN       NaN              NaN         NaN          NaN\n",
      "6       60.0           105       140            290.0         7.0          8.0\n",
      "7       60.0           110       145            300.0         7.0          8.0\n",
      "8       45.0           110        AF              NaN         7.0          8.0\n",
      "9       45.0           115       145            310.0         8.0          8.0\n",
      "10      60.0           120       150            320.0         0.0          8.0\n",
      "11      60.0         9 000       130              NaN         NaN          8.0\n",
      "12      45.0           125       150            330.0         8.0          8.0\n"
     ]
    }
   ],
   "source": [
    "health_data=pd.read_csv(\"C:/Users/irene/OneDrive/桌面/Practice area/data.csv\", header=0, sep=',')\n",
    "print(health_data)"
   ]
  },
  {
   "cell_type": "code",
   "execution_count": 23,
   "id": "798ef5b5-810f-4cb6-9e31-c2173b23b456",
   "metadata": {},
   "outputs": [
    {
     "name": "stdout",
     "output_type": "stream",
     "text": [
      "Duration           1\n",
      "Average_Pulse      1\n",
      "Max_Pulse          1\n",
      "Calorie_Burnage    3\n",
      "Hours_Work         2\n",
      "Hours_Sleep        1\n",
      "dtype: int64\n"
     ]
    }
   ],
   "source": [
    "print(health_data.isnull().sum())"
   ]
  },
  {
   "cell_type": "code",
   "execution_count": 25,
   "id": "94d17168-eb4f-47e0-b776-0c6554d87a69",
   "metadata": {},
   "outputs": [
    {
     "name": "stdout",
     "output_type": "stream",
     "text": [
      "    Duration Average_Pulse Max_Pulse  Calorie_Burnage  Hours_Work  Hours_Sleep\n",
      "0       30.0            80       120            240.0        10.0          7.0\n",
      "1       45.0            85       120            250.0        10.0          7.0\n",
      "2       45.0            90       130            260.0         8.0          7.0\n",
      "3       60.0            95       130            270.0         8.0          7.0\n",
      "4       60.0           100       140            280.0         8.0          7.0\n",
      "6       60.0           105       140            290.0         7.0          8.0\n",
      "7       60.0           110       145            300.0         7.0          8.0\n",
      "9       45.0           115       145            310.0         8.0          8.0\n",
      "10      60.0           120       150            320.0         0.0          8.0\n",
      "12      45.0           125       150            330.0         8.0          8.0\n"
     ]
    }
   ],
   "source": [
    "health_data.dropna(axis=0, inplace=True)\n",
    "print(health_data)"
   ]
  },
  {
   "cell_type": "code",
   "execution_count": 27,
   "id": "8960688b-74d9-4bdc-9a04-d02da453dfc2",
   "metadata": {},
   "outputs": [
    {
     "name": "stdout",
     "output_type": "stream",
     "text": [
      "Col                   0\n",
      "Row                   0\n",
      "Card Site        155517\n",
      "Pad #                 0\n",
      "PM Area%              0\n",
      "PM Size               0\n",
      "X Shift               0\n",
      "Y Shift               0\n",
      "Prox Up               0\n",
      "Prox Down             0\n",
      "Prox Left             0\n",
      "Prox Right            0\n",
      "Edge Touching         0\n",
      "Angle                 0\n",
      "Pass/Fail             0\n",
      "TD Order            247\n",
      "DUT#                247\n",
      "dtype: int64\n"
     ]
    }
   ],
   "source": [
    "print(pmi.isnull().sum())"
   ]
  },
  {
   "cell_type": "code",
   "execution_count": 31,
   "id": "17ce04cf-dc91-407d-9fca-d58a9ffd1d83",
   "metadata": {},
   "outputs": [
    {
     "name": "stdout",
     "output_type": "stream",
     "text": [
      "<class 'pandas.core.frame.DataFrame'>\n",
      "Index: 10 entries, 0 to 12\n",
      "Data columns (total 6 columns):\n",
      " #   Column           Non-Null Count  Dtype  \n",
      "---  ------           --------------  -----  \n",
      " 0   Duration         10 non-null     float64\n",
      " 1   Average_Pulse    10 non-null     object \n",
      " 2   Max_Pulse        10 non-null     object \n",
      " 3   Calorie_Burnage  10 non-null     float64\n",
      " 4   Hours_Work       10 non-null     float64\n",
      " 5   Hours_Sleep      10 non-null     float64\n",
      "dtypes: float64(4), object(2)\n",
      "memory usage: 560.0+ bytes\n",
      "None\n"
     ]
    }
   ],
   "source": [
    "print(health_data.info())"
   ]
  },
  {
   "cell_type": "code",
   "execution_count": 33,
   "id": "f0b3ce63-b8f1-42ee-8d16-68c109a15ff5",
   "metadata": {},
   "outputs": [
    {
     "name": "stdout",
     "output_type": "stream",
     "text": [
      "<class 'pandas.core.frame.DataFrame'>\n",
      "RangeIndex: 155517 entries, 0 to 155516\n",
      "Data columns (total 17 columns):\n",
      " #   Column         Non-Null Count   Dtype  \n",
      "---  ------         --------------   -----  \n",
      " 0   Col            155517 non-null  int64  \n",
      " 1   Row            155517 non-null  int64  \n",
      " 2   Card Site      0 non-null       float64\n",
      " 3   Pad #          155517 non-null  int64  \n",
      " 4   PM Area%       155517 non-null  float64\n",
      " 5   PM Size        155517 non-null  int64  \n",
      " 6   X Shift        155517 non-null  int64  \n",
      " 7   Y Shift        155517 non-null  int64  \n",
      " 8   Prox Up        155517 non-null  float64\n",
      " 9   Prox Down      155517 non-null  float64\n",
      " 10  Prox Left      155517 non-null  float64\n",
      " 11  Prox Right     155517 non-null  float64\n",
      " 12  Edge Touching  155517 non-null  float64\n",
      " 13  Angle          155517 non-null  float64\n",
      " 14  Pass/Fail      155517 non-null  object \n",
      " 15  TD Order       155270 non-null  float64\n",
      " 16  DUT#           155270 non-null  float64\n",
      "dtypes: float64(10), int64(6), object(1)\n",
      "memory usage: 20.2+ MB\n",
      "None\n"
     ]
    }
   ],
   "source": [
    "print(pmi.info())"
   ]
  },
  {
   "cell_type": "code",
   "execution_count": 35,
   "id": "2a867134-5abc-41ab-9148-74566dd99485",
   "metadata": {},
   "outputs": [],
   "source": [
    "health_data[\"Average_Pulse\"]= health_data[\"Average_Pulse\"].astype(float)"
   ]
  },
  {
   "cell_type": "code",
   "execution_count": 37,
   "id": "e5d0eeed-e40d-4498-84d0-90222edf8657",
   "metadata": {},
   "outputs": [
    {
     "data": {
      "text/html": [
       "<div>\n",
       "<style scoped>\n",
       "    .dataframe tbody tr th:only-of-type {\n",
       "        vertical-align: middle;\n",
       "    }\n",
       "\n",
       "    .dataframe tbody tr th {\n",
       "        vertical-align: top;\n",
       "    }\n",
       "\n",
       "    .dataframe thead th {\n",
       "        text-align: right;\n",
       "    }\n",
       "</style>\n",
       "<table border=\"1\" class=\"dataframe\">\n",
       "  <thead>\n",
       "    <tr style=\"text-align: right;\">\n",
       "      <th></th>\n",
       "      <th>Duration</th>\n",
       "      <th>Average_Pulse</th>\n",
       "      <th>Max_Pulse</th>\n",
       "      <th>Calorie_Burnage</th>\n",
       "      <th>Hours_Work</th>\n",
       "      <th>Hours_Sleep</th>\n",
       "    </tr>\n",
       "  </thead>\n",
       "  <tbody>\n",
       "    <tr>\n",
       "      <th>0</th>\n",
       "      <td>30.0</td>\n",
       "      <td>80.0</td>\n",
       "      <td>120</td>\n",
       "      <td>240.0</td>\n",
       "      <td>10.0</td>\n",
       "      <td>7.0</td>\n",
       "    </tr>\n",
       "    <tr>\n",
       "      <th>1</th>\n",
       "      <td>45.0</td>\n",
       "      <td>85.0</td>\n",
       "      <td>120</td>\n",
       "      <td>250.0</td>\n",
       "      <td>10.0</td>\n",
       "      <td>7.0</td>\n",
       "    </tr>\n",
       "    <tr>\n",
       "      <th>2</th>\n",
       "      <td>45.0</td>\n",
       "      <td>90.0</td>\n",
       "      <td>130</td>\n",
       "      <td>260.0</td>\n",
       "      <td>8.0</td>\n",
       "      <td>7.0</td>\n",
       "    </tr>\n",
       "    <tr>\n",
       "      <th>3</th>\n",
       "      <td>60.0</td>\n",
       "      <td>95.0</td>\n",
       "      <td>130</td>\n",
       "      <td>270.0</td>\n",
       "      <td>8.0</td>\n",
       "      <td>7.0</td>\n",
       "    </tr>\n",
       "    <tr>\n",
       "      <th>4</th>\n",
       "      <td>60.0</td>\n",
       "      <td>100.0</td>\n",
       "      <td>140</td>\n",
       "      <td>280.0</td>\n",
       "      <td>8.0</td>\n",
       "      <td>7.0</td>\n",
       "    </tr>\n",
       "    <tr>\n",
       "      <th>6</th>\n",
       "      <td>60.0</td>\n",
       "      <td>105.0</td>\n",
       "      <td>140</td>\n",
       "      <td>290.0</td>\n",
       "      <td>7.0</td>\n",
       "      <td>8.0</td>\n",
       "    </tr>\n",
       "    <tr>\n",
       "      <th>7</th>\n",
       "      <td>60.0</td>\n",
       "      <td>110.0</td>\n",
       "      <td>145</td>\n",
       "      <td>300.0</td>\n",
       "      <td>7.0</td>\n",
       "      <td>8.0</td>\n",
       "    </tr>\n",
       "    <tr>\n",
       "      <th>9</th>\n",
       "      <td>45.0</td>\n",
       "      <td>115.0</td>\n",
       "      <td>145</td>\n",
       "      <td>310.0</td>\n",
       "      <td>8.0</td>\n",
       "      <td>8.0</td>\n",
       "    </tr>\n",
       "    <tr>\n",
       "      <th>10</th>\n",
       "      <td>60.0</td>\n",
       "      <td>120.0</td>\n",
       "      <td>150</td>\n",
       "      <td>320.0</td>\n",
       "      <td>0.0</td>\n",
       "      <td>8.0</td>\n",
       "    </tr>\n",
       "    <tr>\n",
       "      <th>12</th>\n",
       "      <td>45.0</td>\n",
       "      <td>125.0</td>\n",
       "      <td>150</td>\n",
       "      <td>330.0</td>\n",
       "      <td>8.0</td>\n",
       "      <td>8.0</td>\n",
       "    </tr>\n",
       "  </tbody>\n",
       "</table>\n",
       "</div>"
      ],
      "text/plain": [
       "    Duration  Average_Pulse Max_Pulse  Calorie_Burnage  Hours_Work  \\\n",
       "0       30.0           80.0       120            240.0        10.0   \n",
       "1       45.0           85.0       120            250.0        10.0   \n",
       "2       45.0           90.0       130            260.0         8.0   \n",
       "3       60.0           95.0       130            270.0         8.0   \n",
       "4       60.0          100.0       140            280.0         8.0   \n",
       "6       60.0          105.0       140            290.0         7.0   \n",
       "7       60.0          110.0       145            300.0         7.0   \n",
       "9       45.0          115.0       145            310.0         8.0   \n",
       "10      60.0          120.0       150            320.0         0.0   \n",
       "12      45.0          125.0       150            330.0         8.0   \n",
       "\n",
       "    Hours_Sleep  \n",
       "0           7.0  \n",
       "1           7.0  \n",
       "2           7.0  \n",
       "3           7.0  \n",
       "4           7.0  \n",
       "6           8.0  \n",
       "7           8.0  \n",
       "9           8.0  \n",
       "10          8.0  \n",
       "12          8.0  "
      ]
     },
     "execution_count": 37,
     "metadata": {},
     "output_type": "execute_result"
    }
   ],
   "source": [
    "health_data"
   ]
  },
  {
   "cell_type": "code",
   "execution_count": 39,
   "id": "86601f8a-8fa0-4aa2-ab95-9c3e055477c9",
   "metadata": {},
   "outputs": [
    {
     "name": "stdout",
     "output_type": "stream",
     "text": [
      "<class 'pandas.core.frame.DataFrame'>\n",
      "Index: 10 entries, 0 to 12\n",
      "Data columns (total 6 columns):\n",
      " #   Column           Non-Null Count  Dtype  \n",
      "---  ------           --------------  -----  \n",
      " 0   Duration         10 non-null     float64\n",
      " 1   Average_Pulse    10 non-null     float64\n",
      " 2   Max_Pulse        10 non-null     object \n",
      " 3   Calorie_Burnage  10 non-null     float64\n",
      " 4   Hours_Work       10 non-null     float64\n",
      " 5   Hours_Sleep      10 non-null     float64\n",
      "dtypes: float64(5), object(1)\n",
      "memory usage: 560.0+ bytes\n",
      "None\n"
     ]
    }
   ],
   "source": [
    "print(health_data.info())"
   ]
  },
  {
   "cell_type": "code",
   "execution_count": 41,
   "id": "5922ed3f-cc0f-42ef-b2c7-9f1d42b04c50",
   "metadata": {},
   "outputs": [],
   "source": [
    "health_data[\"Max_Pulse\"]= health_data[\"Max_Pulse\"].astype(float)"
   ]
  },
  {
   "cell_type": "code",
   "execution_count": 43,
   "id": "938df7fb-ab05-4d38-85ca-6cb96e4bf42b",
   "metadata": {},
   "outputs": [
    {
     "name": "stdout",
     "output_type": "stream",
     "text": [
      "<class 'pandas.core.frame.DataFrame'>\n",
      "Index: 10 entries, 0 to 12\n",
      "Data columns (total 6 columns):\n",
      " #   Column           Non-Null Count  Dtype  \n",
      "---  ------           --------------  -----  \n",
      " 0   Duration         10 non-null     float64\n",
      " 1   Average_Pulse    10 non-null     float64\n",
      " 2   Max_Pulse        10 non-null     float64\n",
      " 3   Calorie_Burnage  10 non-null     float64\n",
      " 4   Hours_Work       10 non-null     float64\n",
      " 5   Hours_Sleep      10 non-null     float64\n",
      "dtypes: float64(6)\n",
      "memory usage: 560.0 bytes\n",
      "None\n"
     ]
    }
   ],
   "source": [
    "print(health_data.info())"
   ]
  },
  {
   "cell_type": "code",
   "execution_count": 45,
   "id": "76f842c6-7dce-434c-b325-15e9ee432cbf",
   "metadata": {},
   "outputs": [
    {
     "name": "stdout",
     "output_type": "stream",
     "text": [
      "        Duration  Average_Pulse   Max_Pulse  Calorie_Burnage  Hours_Work  \\\n",
      "count  10.000000      10.000000   10.000000        10.000000   10.000000   \n",
      "mean   51.000000     102.500000  137.000000       285.000000    7.400000   \n",
      "std    10.488088      15.138252   11.352924        30.276504    2.796824   \n",
      "min    30.000000      80.000000  120.000000       240.000000    0.000000   \n",
      "25%    45.000000      91.250000  130.000000       262.500000    7.250000   \n",
      "50%    52.500000     102.500000  140.000000       285.000000    8.000000   \n",
      "75%    60.000000     113.750000  145.000000       307.500000    8.000000   \n",
      "max    60.000000     125.000000  150.000000       330.000000   10.000000   \n",
      "\n",
      "       Hours_Sleep  \n",
      "count    10.000000  \n",
      "mean      7.500000  \n",
      "std       0.527046  \n",
      "min       7.000000  \n",
      "25%       7.000000  \n",
      "50%       7.500000  \n",
      "75%       8.000000  \n",
      "max       8.000000  \n"
     ]
    }
   ],
   "source": [
    "print(health_data.describe())"
   ]
  },
  {
   "cell_type": "code",
   "execution_count": null,
   "id": "7c5473bd-05fd-4c70-a52c-52ff627e9599",
   "metadata": {},
   "outputs": [],
   "source": []
  }
 ],
 "metadata": {
  "kernelspec": {
   "display_name": "Python [conda env:base] *",
   "language": "python",
   "name": "conda-base-py"
  },
  "language_info": {
   "codemirror_mode": {
    "name": "ipython",
    "version": 3
   },
   "file_extension": ".py",
   "mimetype": "text/x-python",
   "name": "python",
   "nbconvert_exporter": "python",
   "pygments_lexer": "ipython3",
   "version": "3.11.5"
  }
 },
 "nbformat": 4,
 "nbformat_minor": 5
}
