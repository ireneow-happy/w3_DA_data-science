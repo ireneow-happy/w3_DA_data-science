{
 "cells": [
  {
   "cell_type": "code",
   "execution_count": null,
   "id": "fd820093",
   "metadata": {},
   "outputs": [],
   "source": [
    "import pandas as pd\n",
    "\n",
    "# 讀取健康資料 CSV\n",
    "health_data = pd.read_csv(\"data.csv\", header=0, sep=\",\")\n",
    "print(health_data.head())"
   ]
  },
  {
   "cell_type": "code",
   "execution_count": null,
   "id": "795b25ab",
   "metadata": {},
   "outputs": [],
   "source": [
    "# 刪除有缺值的列\n",
    "health_data.dropna(axis=0, inplace=True)\n",
    "print(health_data.info())"
   ]
  },
  {
   "cell_type": "code",
   "execution_count": null,
   "id": "3d0daa02",
   "metadata": {},
   "outputs": [],
   "source": [
    "# 將文字欄位轉為數值\n",
    "health_data[\"Average_Pulse\"] = health_data[\"Average_Pulse\"].astype(float)\n",
    "health_data[\"Max_Pulse\"] = health_data[\"Max_Pulse\"].astype(float)\n",
    "print(health_data.info())"
   ]
  },
  {
   "cell_type": "code",
   "execution_count": null,
   "id": "efca6674",
   "metadata": {},
   "outputs": [],
   "source": [
    "# 顯示統計摘要\n",
    "print(health_data.describe())"
   ]
  }
 ],
 "metadata": {},
 "nbformat": 4,
 "nbformat_minor": 5
}
